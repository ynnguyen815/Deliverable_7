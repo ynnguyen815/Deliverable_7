{
  "nbformat": 4,
  "nbformat_minor": 0,
  "metadata": {
    "colab": {
      "provenance": []
    },
    "kernelspec": {
      "name": "python3",
      "display_name": "Python 3"
    },
    "language_info": {
      "name": "python"
    }
  },
  "cells": [
    {
      "cell_type": "code",
      "execution_count": 2,
      "metadata": {
        "colab": {
          "base_uri": "https://localhost:8080/"
        },
        "id": "YCYbBZtUw5fp",
        "outputId": "f8f002e6-a84f-4af0-e870-e4d0e9ddb04b"
      },
      "outputs": [
        {
          "output_type": "stream",
          "name": "stdout",
          "text": [
            "Enter an integer value greater than 0: 4\n",
            "-------------------------------------\n",
            "|     |  Even  |  Odd   | Fibonacci  |\n",
            "-------------------------------------\n",
            "|  0  |   0    |   1    |     0      |\n",
            "-------------------------------------\n",
            "|  1  |   2    |   3    |     1      |\n",
            "-------------------------------------\n",
            "|  2  |   4    |   5    |     1      |\n",
            "-------------------------------------\n",
            "|  3  |   6    |   7    |     2      |\n",
            "-------------------------------------\n"
          ]
        }
      ],
      "source": [
        "#Nhi Nguyen\n",
        "#Deliverable (7) Python Programming\n",
        "\n",
        "# Asking to user enter an integer value greater than 0\n",
        "n = int(input(\"Enter an integer value greater than 0: \"))\n",
        "\n",
        "even_numbers = []\n",
        "odd_numbers = []\n",
        "fibonacci_numbers = [0,1]\n",
        "\n",
        "# Check n value is greater than 0\n",
        "if n > 0:\n",
        "\n",
        "    for num in range(2,n+1):\n",
        "        fibonacci_numbers.append(fibonacci_numbers[num - 1] + fibonacci_numbers[num - 2])\n",
        "        \n",
        "    for number in range(n):\n",
        "        even_numbers.append(2*number)\n",
        "        odd_numbers.append(2*number+1)\n",
        "\n",
        "    print(\"-\"*37)\n",
        "    print(\"|{:^5}|{:^8}|{:^8}|{:^12}|\".format(\"\",\"Even\",\"Odd\",\"Fibonacci\"))\n",
        "    print(\"-\"*37)\n",
        "    \n",
        "    for index in range(n):\n",
        "        print(\"|{:^5}|{:^8}|{:^8}|{:^12}|\".format(index,even_numbers[index],odd_numbers[index],fibonacci_numbers[index]))\n",
        "        print(\"-\"*37)\n",
        "   "
      ]
    }
  ]
}